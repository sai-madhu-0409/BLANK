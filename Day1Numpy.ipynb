{
  "nbformat": 4,
  "nbformat_minor": 0,
  "metadata": {
    "colab": {
      "provenance": [],
      "toc_visible": true,
      "include_colab_link": true
    },
    "kernelspec": {
      "name": "python3",
      "display_name": "Python 3"
    },
    "language_info": {
      "name": "python"
    }
  },
  "cells": [
    {
      "cell_type": "markdown",
      "metadata": {
        "id": "view-in-github",
        "colab_type": "text"
      },
      "source": [
        "<a href=\"https://colab.research.google.com/github/sai-madhu-0409/BLANK/blob/main/Day1Numpy.ipynb\" target=\"_parent\"><img src=\"https://colab.research.google.com/assets/colab-badge.svg\" alt=\"Open In Colab\"/></a>"
      ]
    },
    {
      "cell_type": "code",
      "execution_count": 1,
      "metadata": {
        "id": "bOBC0Bc4E6hN"
      },
      "outputs": [],
      "source": [
        "import numpy as np"
      ]
    },
    {
      "cell_type": "markdown",
      "source": [
        "# 1. Converting a List to Array"
      ],
      "metadata": {
        "id": "XRiBp4B7G1CS"
      }
    },
    {
      "cell_type": "code",
      "source": [
        "lst=[1,2,3,4]\n",
        "print(type(lst))\n",
        "arr=np.array(lst)\n",
        "print(type(arr))\n",
        "print(arr)\n",
        "arr=np.array(lst,ndmin=2)\n",
        "print(type(arr))"
      ],
      "metadata": {
        "colab": {
          "base_uri": "https://localhost:8080/"
        },
        "id": "fxiXluPZHDTH",
        "outputId": "816cff80-0335-4ff3-8958-07911648c986"
      },
      "execution_count": 2,
      "outputs": [
        {
          "output_type": "stream",
          "name": "stdout",
          "text": [
            "<class 'list'>\n",
            "<class 'numpy.ndarray'>\n",
            "[1 2 3 4]\n",
            "<class 'numpy.ndarray'>\n"
          ]
        }
      ]
    },
    {
      "cell_type": "markdown",
      "source": [
        "# 2. Arrange function"
      ],
      "metadata": {
        "id": "c-r5cJxMIpXc"
      }
    },
    {
      "cell_type": "code",
      "source": [
        "arr=np.arange(1,11,2)\n",
        "arr\n"
      ],
      "metadata": {
        "colab": {
          "base_uri": "https://localhost:8080/"
        },
        "id": "SFH9xMmjI3Ag",
        "outputId": "01e553ea-12ba-4535-8339-da1703db4a6d"
      },
      "execution_count": 3,
      "outputs": [
        {
          "output_type": "execute_result",
          "data": {
            "text/plain": [
              "array([1, 3, 5, 7, 9])"
            ]
          },
          "metadata": {},
          "execution_count": 3
        }
      ]
    },
    {
      "cell_type": "code",
      "source": [
        "print(*arr)"
      ],
      "metadata": {
        "colab": {
          "base_uri": "https://localhost:8080/"
        },
        "id": "dowS0-3THJTN",
        "outputId": "14b61b10-80ce-4e88-ea34-5dab602f8491"
      },
      "execution_count": null,
      "outputs": [
        {
          "output_type": "stream",
          "name": "stdout",
          "text": [
            "1 3 5 7 9\n"
          ]
        }
      ]
    },
    {
      "cell_type": "code",
      "source": [
        "arr=np.array([[1,2,3],[4,5,6],[7,8,9]])\n",
        "arr"
      ],
      "metadata": {
        "colab": {
          "base_uri": "https://localhost:8080/"
        },
        "id": "xyQhRixzHJoo",
        "outputId": "06401c6f-e2f6-425b-f989-557d03553ef6"
      },
      "execution_count": null,
      "outputs": [
        {
          "output_type": "execute_result",
          "data": {
            "text/plain": [
              "array([[1, 2, 3],\n",
              "       [4, 5, 6],\n",
              "       [7, 8, 9]])"
            ]
          },
          "metadata": {},
          "execution_count": 16
        }
      ]
    },
    {
      "cell_type": "code",
      "source": [
        "arr=np.array([[1,2,3],[4,5,6],[7,8,9]])\n",
        "print(\"Total: \",arr.size)\n",
        "print('rows: ',np.size(arr,0))\n",
        "print('Cols: ',np.size(arr,1))"
      ],
      "metadata": {
        "colab": {
          "base_uri": "https://localhost:8080/"
        },
        "id": "WknUn6NQHJui",
        "outputId": "410d91ec-8476-4237-da12-4735d87c048a"
      },
      "execution_count": null,
      "outputs": [
        {
          "output_type": "stream",
          "name": "stdout",
          "text": [
            "Total:  9\n",
            "rows:  3\n",
            "Cols:  3\n"
          ]
        }
      ]
    },
    {
      "cell_type": "code",
      "source": [
        "arr=np.array([[1,2,3],[4,5,6],[7,8,9]])\n",
        "print((np.size(arr,0),np.size(arr,1)))\n",
        "print(arr.shape)"
      ],
      "metadata": {
        "colab": {
          "base_uri": "https://localhost:8080/"
        },
        "id": "CLHIk9RdK8JN",
        "outputId": "4ff65535-555d-4e64-d6b2-b7967fd97331"
      },
      "execution_count": null,
      "outputs": [
        {
          "output_type": "stream",
          "name": "stdout",
          "text": [
            "(3, 3)\n",
            "(3, 3)\n"
          ]
        }
      ]
    },
    {
      "cell_type": "code",
      "source": [
        "arr1=np.array([1,2,3,4])\n",
        "arr2=np.array([5.1,6.1,7.3,8.4])\n",
        "print(arr1.dtype)\n",
        "print(arr2.dtype)"
      ],
      "metadata": {
        "colab": {
          "base_uri": "https://localhost:8080/"
        },
        "id": "jjhpLoodLZ6c",
        "outputId": "ecdbcf2f-4a81-43d0-b259-09402af370c1"
      },
      "execution_count": null,
      "outputs": [
        {
          "output_type": "stream",
          "name": "stdout",
          "text": [
            "int64\n",
            "float64\n"
          ]
        }
      ]
    },
    {
      "cell_type": "code",
      "source": [
        "arr=np.zeros(shape=(3,5),dtype=int)\n",
        "print(arr)"
      ],
      "metadata": {
        "colab": {
          "base_uri": "https://localhost:8080/"
        },
        "id": "10oGtTuaMByv",
        "outputId": "bafe42c8-b136-4673-b41f-3b72992eb431"
      },
      "execution_count": null,
      "outputs": [
        {
          "output_type": "stream",
          "name": "stdout",
          "text": [
            "[[0 0 0 0 0]\n",
            " [0 0 0 0 0]\n",
            " [0 0 0 0 0]]\n"
          ]
        }
      ]
    },
    {
      "cell_type": "code",
      "source": [
        "arr=np.ones(shape=(3,5),dtype=int)\n",
        "print(arr)"
      ],
      "metadata": {
        "colab": {
          "base_uri": "https://localhost:8080/"
        },
        "id": "RZp1iQcTMVXs",
        "outputId": "291ff9e0-6009-4639-823f-577755318938"
      },
      "execution_count": null,
      "outputs": [
        {
          "output_type": "stream",
          "name": "stdout",
          "text": [
            "[[1 1 1 1 1]\n",
            " [1 1 1 1 1]\n",
            " [1 1 1 1 1]]\n"
          ]
        }
      ]
    },
    {
      "cell_type": "code",
      "source": [
        "np.eye(4,dtype=int)\n"
      ],
      "metadata": {
        "colab": {
          "base_uri": "https://localhost:8080/"
        },
        "id": "AV5Ny4JzHJy1",
        "outputId": "7b8e6b95-0709-4b4b-f95b-14724a0afd32"
      },
      "execution_count": null,
      "outputs": [
        {
          "output_type": "execute_result",
          "data": {
            "text/plain": [
              "array([[1, 0, 0, 0],\n",
              "       [0, 1, 0, 0],\n",
              "       [0, 0, 1, 0],\n",
              "       [0, 0, 0, 1]])"
            ]
          },
          "metadata": {},
          "execution_count": 25
        }
      ]
    },
    {
      "cell_type": "code",
      "source": [
        "np.empty(shape=(5,5))"
      ],
      "metadata": {
        "colab": {
          "base_uri": "https://localhost:8080/"
        },
        "id": "R27wn0MJHJ2n",
        "outputId": "0af794f1-2e6b-4e86-ee80-1c32450bb1ad"
      },
      "execution_count": null,
      "outputs": [
        {
          "output_type": "execute_result",
          "data": {
            "text/plain": [
              "array([[3.86593746e-315, 0.00000000e+000, 5.32004354e-317,\n",
              "        5.32004354e-317, 6.51916316e-310],\n",
              "       [6.51916329e-310, 6.51916316e-310, 6.51916329e-310,\n",
              "        6.51916329e-310, 6.51916316e-310],\n",
              "       [5.32006725e-317, 6.51916248e-310, 6.51916329e-310,\n",
              "        5.32203561e-317, 6.51916329e-310],\n",
              "       [6.51916329e-310, 5.32004354e-317, 6.51916316e-310,\n",
              "        6.51916329e-310, 6.51916316e-310],\n",
              "       [6.51916329e-310, 6.51916329e-310, 6.51916316e-310,\n",
              "        5.32006725e-317, 6.51916248e-310]])"
            ]
          },
          "metadata": {},
          "execution_count": 26
        }
      ]
    },
    {
      "cell_type": "code",
      "source": [],
      "metadata": {
        "id": "xFdOK2GAHJ52"
      },
      "execution_count": null,
      "outputs": []
    }
  ]
}